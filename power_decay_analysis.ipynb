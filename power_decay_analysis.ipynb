{
 "cells": [
  {
   "cell_type": "code",
   "execution_count": 1,
   "metadata": {
    "pycharm": {
     "name": "#%%\n"
    }
   },
   "outputs": [],
   "source": [
    "import pandas as pd\n",
    "import numpy as np\n",
    "import sys\n",
    "import datetime\n",
    "import matplotlib.pyplot as plt\n",
    "from itertools import product\n",
    "\n",
    "YEAR_A = 2009\n",
    "YEAR_B = 2020"
   ]
  },
  {
   "cell_type": "code",
   "execution_count": 2,
   "metadata": {
    "collapsed": true
   },
   "outputs": [],
   "source": [
    "def read_csv(s):\n",
    "    df = pd.read_csv(s)\n",
    "    df['timestamp'] = pd.to_datetime(df['timestamp'], infer_datetime_format=True)\n",
    "    df.set_index('timestamp', inplace=True)\n",
    "    df.drop([\"101_DKA_WeatherStation_Wind_Direction\",\n",
    "             \"101_DKA_WeatherStation_Wind_Speed\",\n",
    "             \"101_DKA_WeatherStation_Weather_Relative_Humidity\",\n",
    "             \"101_DKA_WeatherStation_Radiation_Global_Tilted\",\n",
    "             \"101_DKA_WeatherStation_Radiation_Diffuse_Tilted\",\n",
    "             ], axis=1, inplace=True)\n",
    "    return df\n",
    "\n",
    "\n",
    "def open_datasets(*args):\n",
    "    return (read_csv(arg) for arg in args)\n",
    "\n",
    "\n",
    "df_a, df_b = open_datasets(f\"Alice_Springs_{YEAR_A}.zip\", f\"Alice_Springs_{YEAR_B}.zip\")"
   ]
  },
  {
   "cell_type": "code",
   "execution_count": 3,
   "metadata": {
    "pycharm": {
     "name": "#%%\n"
    }
   },
   "outputs": [],
   "source": [
    "class DayPair:\n",
    "    \"\"\"Pair of day dataframe groups\"\"\"\n",
    "    COLS = [\"101_DKA_WeatherStation_Global_Horizontal_Radiation\",\n",
    "            \"101_DKA_WeatherStation_Weather_Temperature_Celsius\"]\n",
    "\n",
    "    def __init__(self, a, b):\n",
    "        self.a = a\n",
    "        self.b = b\n",
    "        self.similarity = np.prod([self.cosine_similarity(a[1][col], b[1][col]) for col in self.COLS])\n",
    "\n",
    "    def plot(self, cols=None):\n",
    "        cols = cols if cols is not None else self.COLS\n",
    "        out = pd.concat((self.a[1][cols], self.b[1][cols]), axis=1)\n",
    "        out.columns = [f\"{year}_{col}\" for year in (self.a[0][0], self.b[0][0]) for col in cols]\n",
    "        out.set_index(out.index.hour * 60 + out.index.minute, inplace=True)\n",
    "        out.index.name = \"Minute\"\n",
    "        styles = [f\"{l}C{i}\" for l in ('-', '--') for i in range(len(cols))]\n",
    "        ax = out.plot(style=styles, legend=False, title=f\"PV Degradation Rate: {self.a[0][0]} vs. {self.b[0][0]}\")\n",
    "        ax.set_ylabel(\"kW\")\n",
    "        return ax\n",
    "\n",
    "    @staticmethod\n",
    "    def cosine_similarity(x, y):\n",
    "        return np.dot(x, y) / np.linalg.norm(x) / np.linalg.norm(y)"
   ]
  },
  {
   "cell_type": "code",
   "execution_count": 4,
   "outputs": [],
   "source": [
    "def group_days(df):\n",
    "    return [group for group in df.groupby([df.index.year, df.index.month, df.index.day]) if len(group[1]) == 12 * 24]\n",
    "\n",
    "\n",
    "cols = [col for col in df_a.columns.values if 'Active_Power' in col or '101_DKA' in col]\n",
    "days_a, days_b = group_days(df_a[cols]), group_days(df_b[cols])\n",
    "pairs = list(\n",
    "    sorted((DayPair(a, b) for a, b in product(days_a, days_b)), key=lambda pair: pair.similarity, reverse=True))"
   ],
   "metadata": {
    "collapsed": false,
    "pycharm": {
     "name": "#%%\n"
    }
   }
  },
  {
   "cell_type": "code",
   "execution_count": 5,
   "outputs": [],
   "source": [
    "def plot_decay():\n",
    "    pair = pairs[0]\n",
    "    df = pair.a[1]\n",
    "    df.fillna(0, inplace=True)\n",
    "    cols = df.drop(columns=df.columns[(df.mean() < 1)], axis=1).columns.values[:4]\n",
    "    pair.plot(cols=cols)\n",
    "    plt.savefig(\"decay.png\")"
   ],
   "metadata": {
    "collapsed": false,
    "pycharm": {
     "name": "#%%\n"
    }
   }
  },
  {
   "cell_type": "code",
   "execution_count": 63,
   "outputs": [
    {
     "data": {
      "text/plain": "'89_5_Kyocera_Active_Power'"
     },
     "execution_count": 63,
     "metadata": {},
     "output_type": "execute_result"
    }
   ],
   "source": [
    "pair = pairs[0]\n",
    "a = pair.a[1].reset_index()\n",
    "b = pair.b[1].reset_index()\n",
    "diff = (a - b).drop([\"timestamp\",\n",
    "                     \"101_DKA_WeatherStation_Global_Horizontal_Radiation\",\n",
    "                     \"95_6_Kyocera_Active_Power\",\n",
    "                     \"96_DKA_MasterMeter1_Active_Power\",\n",
    "                     ], axis=1)\n",
    "maximums = diff.idxmax(axis=1)\n",
    "maximums.mode()[0]"
   ],
   "metadata": {
    "collapsed": false,
    "pycharm": {
     "name": "#%%\n"
    }
   }
  }
 ],
 "metadata": {
  "kernelspec": {
   "display_name": "Python 3",
   "language": "python",
   "name": "python3"
  },
  "language_info": {
   "codemirror_mode": {
    "name": "ipython",
    "version": 3
   },
   "file_extension": ".py",
   "mimetype": "text/x-python",
   "name": "python",
   "nbconvert_exporter": "python",
   "pygments_lexer": "ipython3",
   "version": "3.8.8"
  }
 },
 "nbformat": 4,
 "nbformat_minor": 1
}